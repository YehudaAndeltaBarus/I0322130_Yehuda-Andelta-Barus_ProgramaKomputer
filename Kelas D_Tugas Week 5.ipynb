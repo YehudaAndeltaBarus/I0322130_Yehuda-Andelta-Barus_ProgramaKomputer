{
 "cells": [
  {
   "attachments": {},
   "cell_type": "markdown",
   "metadata": {},
   "source": [
    "1. Buatlah program pemanggilan angka secara descending menggunakan pengulangan dari angka 50 hingga 0!"
   ]
  },
  {
   "cell_type": "code",
   "execution_count": 2,
   "metadata": {},
   "outputs": [
    {
     "name": "stdout",
     "output_type": "stream",
     "text": [
      "50\n",
      "49\n",
      "48\n",
      "47\n",
      "46\n",
      "45\n",
      "44\n",
      "43\n",
      "42\n",
      "41\n",
      "40\n",
      "39\n",
      "38\n",
      "37\n",
      "36\n",
      "35\n",
      "34\n",
      "33\n",
      "32\n",
      "31\n",
      "30\n",
      "29\n",
      "28\n",
      "27\n",
      "26\n",
      "25\n",
      "24\n",
      "23\n",
      "22\n",
      "21\n",
      "20\n",
      "19\n",
      "18\n",
      "17\n",
      "16\n",
      "15\n",
      "14\n",
      "13\n",
      "12\n",
      "11\n",
      "10\n",
      "9\n",
      "8\n",
      "7\n",
      "6\n",
      "5\n",
      "4\n",
      "3\n",
      "2\n",
      "1\n",
      "0\n"
     ]
    }
   ],
   "source": [
    "# kerjakan nomor 1 di sini\n",
    "for i in range(50, -1, -1): \n",
    "    print(i)\n"
   ]
  },
  {
   "attachments": {},
   "cell_type": "markdown",
   "metadata": {},
   "source": [
    "2. Buatlah sebuah list yang berisi kota-kota yang ada di indonesia (minimal 10, salah satunya kota asal kalian), kemudian buat pengulangan yang menampilkan isi-isi dalam list tersebut, jika salah satu kota menunjukkan kota asal kalian maka tambahkan output \"kota X adalah kampung halaman saya\" (program tetap lanjut)"
   ]
  },
  {
   "cell_type": "code",
   "execution_count": 8,
   "metadata": {},
   "outputs": [
    {
     "name": "stdout",
     "output_type": "stream",
     "text": [
      "Kota Jakarta berada di Indonesia\n",
      "Kota Solo berada di Indonesia\n",
      "Kota Pontianak berada di Indonesia\n",
      "Kota Asal Yuda adalah Kabanjahe\n",
      "Kota Medan berada di Indonesia\n",
      "Kota Bekasi berada di Indonesia\n",
      "Kota Yogyakarta berada di Indonesia\n",
      "Kota Bali berada di Indonesia\n",
      "Kota Padang berada di Indonesia\n",
      "Kota Sabang berada di Indonesia\n"
     ]
    }
   ],
   "source": [
    "# Kerjakan nomor 2 di sini\n",
    "\n",
    "kota = ['Jakarta','Solo','Pontianak','Kabanjahe','Medan','Bekasi','Yogyakarta','Bali','Padang','Sabang']\n",
    "for city in kota:\n",
    "    if city == 'Kabanjahe':\n",
    "        print(f'Kota Asal Yuda adalah', format(kota[3]))\n",
    "        continue\n",
    "    print(f'Kota {city} berada di Indonesia')\n"
   ]
  },
  {
   "attachments": {},
   "cell_type": "markdown",
   "metadata": {},
   "source": [
    "3. Disajikan list sebagai berikut"
   ]
  },
  {
   "cell_type": "code",
   "execution_count": null,
   "metadata": {},
   "outputs": [],
   "source": [
    "hari = ['senin', 'selasa','rabu','kamis','jumat','sabtu', 'minggu']\n",
    "menu_sahur = ['soto','pecel lele', 'ayam goreng', 'sayur sop', 'rendang','telur balado']"
   ]
  },
  {
   "attachments": {},
   "cell_type": "markdown",
   "metadata": {},
   "source": [
    "Abdul adalah seorang mahasiswa semester 2. Selama satu minggu ia membuat daftar menu sahur yang dia makan selama seminggu yang lalu. dengan catatan hari kamis Abdul ketiduran sehingga dia tidak sahur. Berdasarkan kasus tersebut buatlah program pengulangannya!"
   ]
  },
  {
   "cell_type": "code",
   "execution_count": 9,
   "metadata": {},
   "outputs": [
    {
     "name": "stdout",
     "output_type": "stream",
     "text": [
      ",Makanan sahur Abdul\",\n",
      "    senin : soto\n",
      ",Makanan sahur Abdul\",\n",
      "    selasa : pecel lele\n",
      ",Makanan sahur Abdul\",\n",
      "    rabu : ayam goreng\n",
      ",Makanan sahur Abdul\",\n",
      "    kamis : Abdul ndak sahur karena kebablasan turu\n",
      ",Makanan sahur Abdul\",\n",
      "    jumat : sayur sop\n",
      ",Makanan sahur Abdul\",\n",
      "    sabtu : rendang\n",
      ",Makanan sahur Abdul\",\n",
      "    minggu : telur balado\n"
     ]
    }
   ],
   "source": [
    "# kerjakan nomor 3 di sini\n",
    "hari = ['senin', 'selasa','rabu','kamis','jumat','sabtu', 'minggu']\n",
    "menu_sahur = ['soto','pecel lele', 'ayam goreng', 'sayur sop', 'rendang','telur balado']\n",
    "\n",
    "#Kamis Abdul ndak Sahur\n",
    "menu_sahur.insert(3, 'Abdul ndak sahur karena kebablasan turu')\n",
    "for y in range(len(hari)):\n",
    "        print(f''',Makanan sahur Abdul\",\n",
    "    {hari[y]} : {menu_sahur[y]}''')"
   ]
  }
 ],
 "metadata": {
  "kernelspec": {
   "display_name": "Python 3",
   "language": "python",
   "name": "python3"
  },
  "language_info": {
   "codemirror_mode": {
    "name": "ipython",
    "version": 3
   },
   "file_extension": ".py",
   "mimetype": "text/x-python",
   "name": "python",
   "nbconvert_exporter": "python",
   "pygments_lexer": "ipython3",
   "version": "3.10.8"
  },
  "orig_nbformat": 4
 },
 "nbformat": 4,
 "nbformat_minor": 2
}
